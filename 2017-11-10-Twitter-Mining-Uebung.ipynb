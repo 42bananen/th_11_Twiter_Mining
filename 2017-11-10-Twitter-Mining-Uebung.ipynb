{
 "cells": [
  {
   "cell_type": "markdown",
   "metadata": {},
   "source": [
    "# Aufgabe 1\n",
    "\n",
    "1. Erstelle einen Twitter Account und registriere deine eigene Twitter-App. Verbinde Python mit deiner App und gebe die aktuellen Trends von Stuttgart im json-Format aus.\n",
    "\n",
    "2. Gibt es Übereinstimmungen zwischen den trending topics von Stuttgart und weltweit?\n",
    "\n",
    "3. Gib die ersten 5 Tweets von Donald Trumps (@realdonaldtrump) Timeline aus.\n",
    "\n",
    "\n",
    "# Aufgabe 2\n",
    "\n",
    "1. Suche nach Tweets, die @donaldtrump (dies ist nicht der richtige Account von Donald Trump 😉 ) erwähnen. Sammle die ersten 100 Ergebnisse von deiner Suche. Und lass dir die ersten 5 anzeigen. (Hinweis: https://developer.twitter.com/en/docs/tweets/search/api-reference/get-search-tweets) \n",
    "\n",
    "2. Gib die ersten 5 Tweets, Usernamen und Hashtags aus deiner Sammlung aus.\n",
    "\n",
    "3. Erstelle eine Sammlung aller Wörter, die in den Tweets vorkommen und gib die ersten 30 Wörter aus.\n",
    "\n",
    "4. Erstelle nun eine Häufigkeitsverteilung der Elemente *Wörter*, *Usernamen* und *Hashtags*. Lass dir die Plätze 5-15 in einer Tabelle anzeigen.\n",
    "\n",
    "5. Gib nun die 5 am meisten geteilten Tweets in einer Tabelle aus.\n",
    "\n"
   ]
  },
  {
   "cell_type": "code",
   "execution_count": null,
   "metadata": {
    "collapsed": true
   },
   "outputs": [],
   "source": []
  }
 ],
 "metadata": {
  "kernelspec": {
   "display_name": "Python 3",
   "language": "python",
   "name": "python3"
  },
  "language_info": {
   "codemirror_mode": {
    "name": "ipython",
    "version": 3
   },
   "file_extension": ".py",
   "mimetype": "text/x-python",
   "name": "python",
   "nbconvert_exporter": "python",
   "pygments_lexer": "ipython3",
   "version": "3.6.2"
  }
 },
 "nbformat": 4,
 "nbformat_minor": 2
}
